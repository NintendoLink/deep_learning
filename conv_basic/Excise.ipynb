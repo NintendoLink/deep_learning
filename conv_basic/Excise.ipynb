{
 "cells": [
  {
   "cell_type": "code",
   "execution_count": 1,
   "metadata": {},
   "outputs": [],
   "source": [
    "import tensorflow as tf"
   ]
  },
  {
   "cell_type": "code",
   "execution_count": 2,
   "metadata": {},
   "outputs": [],
   "source": [
    "x = tf.placeholder(tf.float32,[None,3072])\n",
    "y = tf.placeholder(tf.int64,[None])\n",
    "\n",
    "x_image = tf.reshape(x,[-1,3,32,32])\n",
    "x_image = tf.transpose(x_image,perm=[0,2,3,1])\n",
    "\n",
    "conv1 = tf.layers.conv2d(x_image,\n",
    "                        32,\n",
    "                        (3,3),\n",
    "                        padding = 'same',\n",
    "                        activation = tf.nn.relu,\n",
    "                        name = 'conv4')\n",
    "\n",
    "pooling1 = tf.layers.max_pooling2d(conv1,\n",
    "                               [2,2],\n",
    "                               [2,2],\n",
    "                               name = 'pool1')\n",
    "\n",
    "conv2 = tf.layers.conv2d(pooling1,\n",
    "                        32,\n",
    "                        (3,3),\n",
    "                        padding = 'same',\n",
    "                        activation = tf.nn.relu,\n",
    "                        name = 'conv5')\n",
    "\n",
    "pooling2 = tf.layers.max_pooling2d(conv2,\n",
    "                               [2,2],\n",
    "                               [2,2],\n",
    "                               name = 'pool2')\n",
    "\n",
    "conv3 = tf.layers.conv2d(pooling2,\n",
    "                        32,\n",
    "                        (3,3),\n",
    "                        padding = 'same',\n",
    "                        activation = tf.nn.relu,\n",
    "                        name = 'conv6')\n",
    "\n",
    "pooling3 = tf.layers.max_pooling2d(conv3,\n",
    "                               [2,2],\n",
    "                               [2,2],\n",
    "                               name = 'pool3')\n",
    "\n",
    "flatten = tf.layers.flatten(pooling3)\n",
    "\n",
    "y_ = tf.layers.dense(flatten,10)\n",
    "\n",
    "loss = tf.losses.sparse_softmax_cross_entropy(labels=y ,logits=y_)\n",
    "\n",
    "predict = tf.argmax(y,1)\n",
    "\n",
    "\n",
    "correct_predict = tf.equal(predict,y)\n",
    "\n",
    "accuracy = tf.reduce_mean(tf.cast(correct_predict,tf.float64))\n",
    "\n",
    "with tf.name_scope('train_op'):\n",
    "    train_op = tf.train.AdamOptimizer(1e-3).minimize(loss)\n"
   ]
  },
  {
   "cell_type": "code",
   "execution_count": null,
   "metadata": {},
   "outputs": [],
   "source": []
  },
  {
   "cell_type": "code",
   "execution_count": null,
   "metadata": {},
   "outputs": [],
   "source": []
  },
  {
   "cell_type": "code",
   "execution_count": null,
   "metadata": {},
   "outputs": [],
   "source": []
  }
 ],
 "metadata": {
  "kernelspec": {
   "display_name": "Python 3",
   "language": "python",
   "name": "python3"
  },
  "language_info": {
   "codemirror_mode": {
    "name": "ipython",
    "version": 3
   },
   "file_extension": ".py",
   "mimetype": "text/x-python",
   "name": "python",
   "nbconvert_exporter": "python",
   "pygments_lexer": "ipython3",
   "version": "3.5.6"
  }
 },
 "nbformat": 4,
 "nbformat_minor": 2
}
